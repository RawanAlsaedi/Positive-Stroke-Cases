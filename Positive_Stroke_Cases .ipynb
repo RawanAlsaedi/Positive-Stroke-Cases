{
 "cells": [
  {
   "cell_type": "markdown",
   "metadata": {
    "id": "0g2RQRSltgja"
   },
   "source": [
    "# Full DL Solution\n",
    "---\n",
    "### **Case Study:** Stroke Prediction\n",
    "\n",
    "**Objective:** The goal of this project is to walk you through a case study where you can apply the deep learning concepts that you learned about during the week. By the end of this project, you would have developed a solution that predicts if a person will have a stroke or not.\n"
   ]
  },
  {
   "cell_type": "markdown",
   "metadata": {
    "id": "SSCD88NxJjFo"
   },
   "source": [
    "**Dataset Explanation:** We will be using the stroke dataset. Its features are:\n",
    "\n",
    "\n",
    "* **id:** unique identifier\n",
    "* **gender:** \"Male\", \"Female\" or \"Other\"\n",
    "* **age:** age of the patient\n",
    "* **hypertension:** 0 if the patient doesn't have hypertension, 1 if the patient has hypertension\n",
    "* **heart_disease:** 0 if the patient doesn't have any heart diseases, 1 if the patient has a heart disease\n",
    "* **ever_married:** \"No\" or \"Yes\"\n",
    "* **work_type:** \"children\", \"Govt_jov\", \"Never_worked\", \"Private\" or \"Self-employed\"\n",
    "* **Residence_type:** \"Rural\" or \"Urban\"\n",
    "* **avg_glucose_level:** average glucose level in blood\n",
    "* **bmi:** body mass index\n",
    "* **smoking_status:** \"formerly smoked\", \"never smoked\", \"smokes\" or \"Unknown\"*\n",
    "* **stroke:** 1 if the patient had a stroke or 0 if not"
   ]
  },
  {
   "cell_type": "markdown",
   "metadata": {
    "id": "gBvX5nCYt8cT"
   },
   "source": [
    "# Importing Libraries"
   ]
  },
  {
   "cell_type": "markdown",
   "metadata": {
    "id": "JaPfsfvXK2_0"
   },
   "source": [
    "We start by importing the libraries"
   ]
  },
  {
   "cell_type": "code",
   "execution_count": 1,
   "metadata": {
    "id": "oK92M0m-ezbE"
   },
   "outputs": [],
   "source": [
    "import warnings\n",
    "warnings.filterwarnings('ignore')"
   ]
  },
  {
   "cell_type": "code",
   "execution_count": 2,
   "metadata": {
    "id": "mMQuUG7OtfrG"
   },
   "outputs": [],
   "source": [
    "import numpy as np\n",
    "import pandas as pd\n",
    "import matplotlib.pyplot as plt"
   ]
  },
  {
   "cell_type": "markdown",
   "metadata": {
    "id": "0-RxAH5auFFy"
   },
   "source": [
    "# Loading the Dataset"
   ]
  },
  {
   "cell_type": "markdown",
   "metadata": {
    "id": "z_jj2t6zK6zy"
   },
   "source": [
    "We load the dataset from a csv file, and see its first rows"
   ]
  },
  {
   "cell_type": "code",
   "execution_count": 3,
   "metadata": {
    "id": "UQVo1CAJt7s8"
   },
   "outputs": [
    {
     "data": {
      "text/html": [
       "<div>\n",
       "<style scoped>\n",
       "    .dataframe tbody tr th:only-of-type {\n",
       "        vertical-align: middle;\n",
       "    }\n",
       "\n",
       "    .dataframe tbody tr th {\n",
       "        vertical-align: top;\n",
       "    }\n",
       "\n",
       "    .dataframe thead th {\n",
       "        text-align: right;\n",
       "    }\n",
       "</style>\n",
       "<table border=\"1\" class=\"dataframe\">\n",
       "  <thead>\n",
       "    <tr style=\"text-align: right;\">\n",
       "      <th></th>\n",
       "      <th>id</th>\n",
       "      <th>gender</th>\n",
       "      <th>age</th>\n",
       "      <th>hypertension</th>\n",
       "      <th>heart_disease</th>\n",
       "      <th>ever_married</th>\n",
       "      <th>work_type</th>\n",
       "      <th>Residence_type</th>\n",
       "      <th>avg_glucose_level</th>\n",
       "      <th>bmi</th>\n",
       "      <th>smoking_status</th>\n",
       "      <th>stroke</th>\n",
       "    </tr>\n",
       "  </thead>\n",
       "  <tbody>\n",
       "    <tr>\n",
       "      <th>0</th>\n",
       "      <td>9046</td>\n",
       "      <td>Male</td>\n",
       "      <td>67.0</td>\n",
       "      <td>0</td>\n",
       "      <td>1</td>\n",
       "      <td>Yes</td>\n",
       "      <td>Private</td>\n",
       "      <td>Urban</td>\n",
       "      <td>228.69</td>\n",
       "      <td>36.6</td>\n",
       "      <td>formerly smoked</td>\n",
       "      <td>1</td>\n",
       "    </tr>\n",
       "    <tr>\n",
       "      <th>1</th>\n",
       "      <td>51676</td>\n",
       "      <td>Female</td>\n",
       "      <td>61.0</td>\n",
       "      <td>0</td>\n",
       "      <td>0</td>\n",
       "      <td>Yes</td>\n",
       "      <td>Self-employed</td>\n",
       "      <td>Rural</td>\n",
       "      <td>202.21</td>\n",
       "      <td>NaN</td>\n",
       "      <td>never smoked</td>\n",
       "      <td>1</td>\n",
       "    </tr>\n",
       "    <tr>\n",
       "      <th>2</th>\n",
       "      <td>31112</td>\n",
       "      <td>Male</td>\n",
       "      <td>80.0</td>\n",
       "      <td>0</td>\n",
       "      <td>1</td>\n",
       "      <td>Yes</td>\n",
       "      <td>Private</td>\n",
       "      <td>Rural</td>\n",
       "      <td>105.92</td>\n",
       "      <td>32.5</td>\n",
       "      <td>never smoked</td>\n",
       "      <td>1</td>\n",
       "    </tr>\n",
       "    <tr>\n",
       "      <th>3</th>\n",
       "      <td>60182</td>\n",
       "      <td>Female</td>\n",
       "      <td>49.0</td>\n",
       "      <td>0</td>\n",
       "      <td>0</td>\n",
       "      <td>Yes</td>\n",
       "      <td>Private</td>\n",
       "      <td>Urban</td>\n",
       "      <td>171.23</td>\n",
       "      <td>34.4</td>\n",
       "      <td>smokes</td>\n",
       "      <td>1</td>\n",
       "    </tr>\n",
       "    <tr>\n",
       "      <th>4</th>\n",
       "      <td>1665</td>\n",
       "      <td>Female</td>\n",
       "      <td>79.0</td>\n",
       "      <td>1</td>\n",
       "      <td>0</td>\n",
       "      <td>Yes</td>\n",
       "      <td>Self-employed</td>\n",
       "      <td>Rural</td>\n",
       "      <td>174.12</td>\n",
       "      <td>24.0</td>\n",
       "      <td>never smoked</td>\n",
       "      <td>1</td>\n",
       "    </tr>\n",
       "  </tbody>\n",
       "</table>\n",
       "</div>"
      ],
      "text/plain": [
       "      id  gender   age  hypertension  heart_disease ever_married  \\\n",
       "0   9046    Male  67.0             0              1          Yes   \n",
       "1  51676  Female  61.0             0              0          Yes   \n",
       "2  31112    Male  80.0             0              1          Yes   \n",
       "3  60182  Female  49.0             0              0          Yes   \n",
       "4   1665  Female  79.0             1              0          Yes   \n",
       "\n",
       "       work_type Residence_type  avg_glucose_level   bmi   smoking_status  \\\n",
       "0        Private          Urban             228.69  36.6  formerly smoked   \n",
       "1  Self-employed          Rural             202.21   NaN     never smoked   \n",
       "2        Private          Rural             105.92  32.5     never smoked   \n",
       "3        Private          Urban             171.23  34.4           smokes   \n",
       "4  Self-employed          Rural             174.12  24.0     never smoked   \n",
       "\n",
       "   stroke  \n",
       "0       1  \n",
       "1       1  \n",
       "2       1  \n",
       "3       1  \n",
       "4       1  "
      ]
     },
     "execution_count": 3,
     "metadata": {},
     "output_type": "execute_result"
    }
   ],
   "source": [
    "path = 'healthcare-dataset-stroke-data.csv'\n",
    "data = pd.read_csv(path)\n",
    "data.head()"
   ]
  },
  {
   "cell_type": "markdown",
   "metadata": {
    "id": "r6gAyBGtubI7"
   },
   "source": [
    "# Exploratory Data Analysis"
   ]
  },
  {
   "cell_type": "markdown",
   "metadata": {
    "id": "XZ_93CvuLF3j"
   },
   "source": [
    "Now we start the exploratory data analysis."
   ]
  },
  {
   "cell_type": "markdown",
   "metadata": {
    "id": "2925yVCdud0a"
   },
   "source": [
    "### Shape of the data"
   ]
  },
  {
   "cell_type": "markdown",
   "metadata": {
    "id": "yZ0hWvVALJy4"
   },
   "source": [
    "First thing we need to know the shape of our data\n",
    "\n",
    "**Question 1:** How many examples and features do we have?"
   ]
  },
  {
   "cell_type": "code",
   "execution_count": 4,
   "metadata": {
    "id": "8pvWR3PKuQEy"
   },
   "outputs": [
    {
     "name": "stdout",
     "output_type": "stream",
     "text": [
      "5110 12\n"
     ]
    }
   ],
   "source": [
    "nrow = data.shape[0]\n",
    "ncol = data.shape[1]\n",
    "\n",
    "print(nrow, ncol)"
   ]
  },
  {
   "cell_type": "markdown",
   "metadata": {
    "id": "yUy4oI5xukRr"
   },
   "source": [
    "### Types of different Columns"
   ]
  },
  {
   "cell_type": "markdown",
   "metadata": {
    "id": "G1q10ievLTTs"
   },
   "source": [
    "**Question 2:** Check the type of each feature."
   ]
  },
  {
   "cell_type": "code",
   "execution_count": 5,
   "metadata": {
    "id": "_8snoohouhUP"
   },
   "outputs": [
    {
     "data": {
      "text/plain": [
       "id                     int64\n",
       "gender                object\n",
       "age                  float64\n",
       "hypertension           int64\n",
       "heart_disease          int64\n",
       "ever_married          object\n",
       "work_type             object\n",
       "Residence_type        object\n",
       "avg_glucose_level    float64\n",
       "bmi                  float64\n",
       "smoking_status        object\n",
       "stroke                 int64\n",
       "dtype: object"
      ]
     },
     "execution_count": 5,
     "metadata": {},
     "output_type": "execute_result"
    }
   ],
   "source": [
    "data.dtypes\n"
   ]
  },
  {
   "cell_type": "markdown",
   "metadata": {
    "id": "nkrEh6RYygms"
   },
   "source": [
    "### Dealing with categorical variables"
   ]
  },
  {
   "cell_type": "markdown",
   "metadata": {
    "id": "v_kBYl7ItLGt"
   },
   "source": [
    "**Question 3:** Use the .value_counts() functions to walk through the categorical variables that we have to see the categories and the counts of each of them."
   ]
  },
  {
   "cell_type": "code",
   "execution_count": 6,
   "metadata": {
    "id": "DlSfSQ35ykgc"
   },
   "outputs": [
    {
     "data": {
      "text/plain": [
       "never smoked       1892\n",
       "Unknown            1544\n",
       "formerly smoked     885\n",
       "smokes              789\n",
       "Name: smoking_status, dtype: int64"
      ]
     },
     "execution_count": 6,
     "metadata": {},
     "output_type": "execute_result"
    }
   ],
   "source": [
    "smoking_types = data['smoking_status'].value_counts()\n",
    "smoking_types"
   ]
  },
  {
   "cell_type": "code",
   "execution_count": 7,
   "metadata": {
    "id": "Yg0xlLNUy7AF"
   },
   "outputs": [
    {
     "data": {
      "text/plain": [
       "Urban    2596\n",
       "Rural    2514\n",
       "Name: Residence_type, dtype: int64"
      ]
     },
     "execution_count": 7,
     "metadata": {},
     "output_type": "execute_result"
    }
   ],
   "source": [
    "residence_types = data['Residence_type'].value_counts()\n",
    "residence_types"
   ]
  },
  {
   "cell_type": "code",
   "execution_count": 8,
   "metadata": {
    "id": "T72r_mkrzF9V"
   },
   "outputs": [
    {
     "data": {
      "text/plain": [
       "Private          2925\n",
       "Self-employed     819\n",
       "children          687\n",
       "Govt_job          657\n",
       "Never_worked       22\n",
       "Name: work_type, dtype: int64"
      ]
     },
     "execution_count": 8,
     "metadata": {},
     "output_type": "execute_result"
    }
   ],
   "source": [
    "work_types = data['work_type'].value_counts()\n",
    "work_types"
   ]
  },
  {
   "cell_type": "code",
   "execution_count": 9,
   "metadata": {
    "id": "Z0kpR57LzQE9"
   },
   "outputs": [
    {
     "data": {
      "text/plain": [
       "Yes    3353\n",
       "No     1757\n",
       "Name: ever_married, dtype: int64"
      ]
     },
     "execution_count": 9,
     "metadata": {},
     "output_type": "execute_result"
    }
   ],
   "source": [
    "married_types = data['ever_married'].value_counts()\n",
    "married_types"
   ]
  },
  {
   "cell_type": "code",
   "execution_count": 10,
   "metadata": {
    "id": "fQIoAs8y3igG"
   },
   "outputs": [
    {
     "data": {
      "text/plain": [
       "0    4612\n",
       "1     498\n",
       "Name: hypertension, dtype: int64"
      ]
     },
     "execution_count": 10,
     "metadata": {},
     "output_type": "execute_result"
    }
   ],
   "source": [
    "hypertension = data['hypertension'].value_counts()\n",
    "hypertension"
   ]
  },
  {
   "cell_type": "code",
   "execution_count": 11,
   "metadata": {
    "id": "xEhNH46j3p3Y"
   },
   "outputs": [
    {
     "data": {
      "text/plain": [
       "0    4834\n",
       "1     276\n",
       "Name: heart_disease, dtype: int64"
      ]
     },
     "execution_count": 11,
     "metadata": {},
     "output_type": "execute_result"
    }
   ],
   "source": [
    "heart_disease= data['heart_disease'].value_counts()\n",
    "heart_disease"
   ]
  },
  {
   "cell_type": "code",
   "execution_count": 12,
   "metadata": {
    "id": "8cI7uJvA3Njv"
   },
   "outputs": [
    {
     "data": {
      "text/plain": [
       "0    4861\n",
       "1     249\n",
       "Name: stroke, dtype: int64"
      ]
     },
     "execution_count": 12,
     "metadata": {},
     "output_type": "execute_result"
    }
   ],
   "source": [
    "stroke= data['stroke'].value_counts()\n",
    "stroke"
   ]
  },
  {
   "cell_type": "markdown",
   "metadata": {
    "id": "_jFIiKPvllld"
   },
   "source": [
    "# Preprocessing"
   ]
  },
  {
   "cell_type": "markdown",
   "metadata": {
    "id": "JsQQj-wVlkjS"
   },
   "source": [
    "### Dealing with Nulls"
   ]
  },
  {
   "cell_type": "markdown",
   "metadata": {
    "id": "wdlRc672lgI4"
   },
   "source": [
    "**Question 4:** The bmi column contains nulls. Fill it with the appropriate measure."
   ]
  },
  {
   "cell_type": "code",
   "execution_count": 13,
   "metadata": {},
   "outputs": [],
   "source": [
    "data['bmi'].fillna(data['bmi'].mean(), inplace=True)"
   ]
  },
  {
   "cell_type": "markdown",
   "metadata": {
    "id": "21da4C_Bzd-u"
   },
   "source": [
    "#### Encoding Categorical Features"
   ]
  },
  {
   "cell_type": "markdown",
   "metadata": {
    "id": "UaNk4gWCLqe4"
   },
   "source": [
    "**Question 5:** Here you have to encode those categorical variables to be able to use them to train your DL model."
   ]
  },
  {
   "cell_type": "code",
   "execution_count": 14,
   "metadata": {},
   "outputs": [],
   "source": [
    "from sklearn import preprocessing\n",
    "\n",
    "encoder = preprocessing.LabelEncoder()\n",
    "data['smoking_status'] = encoder.fit_transform(data['smoking_status'])\n",
    "data['Residence_type'] = encoder.fit_transform(data['Residence_type'])\n",
    "data['work_type'] = encoder.fit_transform(data['work_type'])\n",
    "data['ever_married'] = encoder.fit_transform(data['ever_married'])\n",
    "data['gender'] = encoder.fit_transform(data['gender'])\n"
   ]
  },
  {
   "cell_type": "markdown",
   "metadata": {
    "id": "d1GOfAgt4M-Q"
   },
   "source": [
    "### Normalizing Features"
   ]
  },
  {
   "cell_type": "markdown",
   "metadata": {
    "id": "EPpkMCXELwty"
   },
   "source": [
    "**Question 6:** Normalize the input data"
   ]
  },
  {
   "cell_type": "code",
   "execution_count": 15,
   "metadata": {
    "id": "BtI_XA-m33Bx"
   },
   "outputs": [
    {
     "data": {
      "text/html": [
       "<div>\n",
       "<style scoped>\n",
       "    .dataframe tbody tr th:only-of-type {\n",
       "        vertical-align: middle;\n",
       "    }\n",
       "\n",
       "    .dataframe tbody tr th {\n",
       "        vertical-align: top;\n",
       "    }\n",
       "\n",
       "    .dataframe thead th {\n",
       "        text-align: right;\n",
       "    }\n",
       "</style>\n",
       "<table border=\"1\" class=\"dataframe\">\n",
       "  <thead>\n",
       "    <tr style=\"text-align: right;\">\n",
       "      <th></th>\n",
       "      <th>id</th>\n",
       "      <th>gender</th>\n",
       "      <th>age</th>\n",
       "      <th>hypertension</th>\n",
       "      <th>heart_disease</th>\n",
       "      <th>ever_married</th>\n",
       "      <th>work_type</th>\n",
       "      <th>Residence_type</th>\n",
       "      <th>avg_glucose_level</th>\n",
       "      <th>bmi</th>\n",
       "      <th>smoking_status</th>\n",
       "      <th>stroke</th>\n",
       "    </tr>\n",
       "  </thead>\n",
       "  <tbody>\n",
       "    <tr>\n",
       "      <th>count</th>\n",
       "      <td>5110.000000</td>\n",
       "      <td>5110.000000</td>\n",
       "      <td>5110.000000</td>\n",
       "      <td>5110.000000</td>\n",
       "      <td>5110.000000</td>\n",
       "      <td>5110.000000</td>\n",
       "      <td>5110.000000</td>\n",
       "      <td>5110.000000</td>\n",
       "      <td>5110.000000</td>\n",
       "      <td>5110.000000</td>\n",
       "      <td>5110.000000</td>\n",
       "      <td>5110.000000</td>\n",
       "    </tr>\n",
       "    <tr>\n",
       "      <th>mean</th>\n",
       "      <td>0.500656</td>\n",
       "      <td>0.207143</td>\n",
       "      <td>0.527154</td>\n",
       "      <td>0.097456</td>\n",
       "      <td>0.054012</td>\n",
       "      <td>0.656164</td>\n",
       "      <td>0.541928</td>\n",
       "      <td>0.508023</td>\n",
       "      <td>0.390622</td>\n",
       "      <td>0.296037</td>\n",
       "      <td>0.458969</td>\n",
       "      <td>0.048728</td>\n",
       "    </tr>\n",
       "    <tr>\n",
       "      <th>std</th>\n",
       "      <td>0.290125</td>\n",
       "      <td>0.246522</td>\n",
       "      <td>0.275764</td>\n",
       "      <td>0.296607</td>\n",
       "      <td>0.226063</td>\n",
       "      <td>0.475034</td>\n",
       "      <td>0.272573</td>\n",
       "      <td>0.499985</td>\n",
       "      <td>0.166643</td>\n",
       "      <td>0.078873</td>\n",
       "      <td>0.357178</td>\n",
       "      <td>0.215320</td>\n",
       "    </tr>\n",
       "    <tr>\n",
       "      <th>min</th>\n",
       "      <td>0.000919</td>\n",
       "      <td>0.000000</td>\n",
       "      <td>0.000976</td>\n",
       "      <td>0.000000</td>\n",
       "      <td>0.000000</td>\n",
       "      <td>0.000000</td>\n",
       "      <td>0.000000</td>\n",
       "      <td>0.000000</td>\n",
       "      <td>0.202841</td>\n",
       "      <td>0.105533</td>\n",
       "      <td>0.000000</td>\n",
       "      <td>0.000000</td>\n",
       "    </tr>\n",
       "    <tr>\n",
       "      <th>25%</th>\n",
       "      <td>0.243231</td>\n",
       "      <td>0.000000</td>\n",
       "      <td>0.304878</td>\n",
       "      <td>0.000000</td>\n",
       "      <td>0.000000</td>\n",
       "      <td>0.000000</td>\n",
       "      <td>0.500000</td>\n",
       "      <td>0.000000</td>\n",
       "      <td>0.284261</td>\n",
       "      <td>0.243852</td>\n",
       "      <td>0.000000</td>\n",
       "      <td>0.000000</td>\n",
       "    </tr>\n",
       "    <tr>\n",
       "      <th>50%</th>\n",
       "      <td>0.506334</td>\n",
       "      <td>0.000000</td>\n",
       "      <td>0.548780</td>\n",
       "      <td>0.000000</td>\n",
       "      <td>0.000000</td>\n",
       "      <td>1.000000</td>\n",
       "      <td>0.500000</td>\n",
       "      <td>1.000000</td>\n",
       "      <td>0.338136</td>\n",
       "      <td>0.290984</td>\n",
       "      <td>0.666667</td>\n",
       "      <td>0.000000</td>\n",
       "    </tr>\n",
       "    <tr>\n",
       "      <th>75%</th>\n",
       "      <td>0.749685</td>\n",
       "      <td>0.500000</td>\n",
       "      <td>0.743902</td>\n",
       "      <td>0.000000</td>\n",
       "      <td>0.000000</td>\n",
       "      <td>1.000000</td>\n",
       "      <td>0.750000</td>\n",
       "      <td>1.000000</td>\n",
       "      <td>0.419850</td>\n",
       "      <td>0.336066</td>\n",
       "      <td>0.666667</td>\n",
       "      <td>0.000000</td>\n",
       "    </tr>\n",
       "    <tr>\n",
       "      <th>max</th>\n",
       "      <td>1.000000</td>\n",
       "      <td>1.000000</td>\n",
       "      <td>1.000000</td>\n",
       "      <td>1.000000</td>\n",
       "      <td>1.000000</td>\n",
       "      <td>1.000000</td>\n",
       "      <td>1.000000</td>\n",
       "      <td>1.000000</td>\n",
       "      <td>1.000000</td>\n",
       "      <td>1.000000</td>\n",
       "      <td>1.000000</td>\n",
       "      <td>1.000000</td>\n",
       "    </tr>\n",
       "  </tbody>\n",
       "</table>\n",
       "</div>"
      ],
      "text/plain": [
       "                id       gender          age  hypertension  heart_disease  \\\n",
       "count  5110.000000  5110.000000  5110.000000   5110.000000    5110.000000   \n",
       "mean      0.500656     0.207143     0.527154      0.097456       0.054012   \n",
       "std       0.290125     0.246522     0.275764      0.296607       0.226063   \n",
       "min       0.000919     0.000000     0.000976      0.000000       0.000000   \n",
       "25%       0.243231     0.000000     0.304878      0.000000       0.000000   \n",
       "50%       0.506334     0.000000     0.548780      0.000000       0.000000   \n",
       "75%       0.749685     0.500000     0.743902      0.000000       0.000000   \n",
       "max       1.000000     1.000000     1.000000      1.000000       1.000000   \n",
       "\n",
       "       ever_married    work_type  Residence_type  avg_glucose_level  \\\n",
       "count   5110.000000  5110.000000     5110.000000        5110.000000   \n",
       "mean       0.656164     0.541928        0.508023           0.390622   \n",
       "std        0.475034     0.272573        0.499985           0.166643   \n",
       "min        0.000000     0.000000        0.000000           0.202841   \n",
       "25%        0.000000     0.500000        0.000000           0.284261   \n",
       "50%        1.000000     0.500000        1.000000           0.338136   \n",
       "75%        1.000000     0.750000        1.000000           0.419850   \n",
       "max        1.000000     1.000000        1.000000           1.000000   \n",
       "\n",
       "               bmi  smoking_status       stroke  \n",
       "count  5110.000000     5110.000000  5110.000000  \n",
       "mean      0.296037        0.458969     0.048728  \n",
       "std       0.078873        0.357178     0.215320  \n",
       "min       0.105533        0.000000     0.000000  \n",
       "25%       0.243852        0.000000     0.000000  \n",
       "50%       0.290984        0.666667     0.000000  \n",
       "75%       0.336066        0.666667     0.000000  \n",
       "max       1.000000        1.000000     1.000000  "
      ]
     },
     "execution_count": 15,
     "metadata": {},
     "output_type": "execute_result"
    }
   ],
   "source": [
    "data = data.divide(data.max(axis=0))\n",
    "data.describe()"
   ]
  },
  {
   "cell_type": "code",
   "execution_count": 16,
   "metadata": {},
   "outputs": [
    {
     "data": {
      "text/html": [
       "<div>\n",
       "<style scoped>\n",
       "    .dataframe tbody tr th:only-of-type {\n",
       "        vertical-align: middle;\n",
       "    }\n",
       "\n",
       "    .dataframe tbody tr th {\n",
       "        vertical-align: top;\n",
       "    }\n",
       "\n",
       "    .dataframe thead th {\n",
       "        text-align: right;\n",
       "    }\n",
       "</style>\n",
       "<table border=\"1\" class=\"dataframe\">\n",
       "  <thead>\n",
       "    <tr style=\"text-align: right;\">\n",
       "      <th></th>\n",
       "      <th>id</th>\n",
       "      <th>gender</th>\n",
       "      <th>age</th>\n",
       "      <th>hypertension</th>\n",
       "      <th>heart_disease</th>\n",
       "      <th>ever_married</th>\n",
       "      <th>work_type</th>\n",
       "      <th>Residence_type</th>\n",
       "      <th>avg_glucose_level</th>\n",
       "      <th>bmi</th>\n",
       "      <th>smoking_status</th>\n",
       "      <th>stroke</th>\n",
       "    </tr>\n",
       "  </thead>\n",
       "  <tbody>\n",
       "    <tr>\n",
       "      <th>0</th>\n",
       "      <td>0.124020</td>\n",
       "      <td>0.5</td>\n",
       "      <td>0.817073</td>\n",
       "      <td>0.0</td>\n",
       "      <td>1.0</td>\n",
       "      <td>1.0</td>\n",
       "      <td>0.50</td>\n",
       "      <td>1.0</td>\n",
       "      <td>0.841577</td>\n",
       "      <td>0.375000</td>\n",
       "      <td>0.333333</td>\n",
       "      <td>1.0</td>\n",
       "    </tr>\n",
       "    <tr>\n",
       "      <th>1</th>\n",
       "      <td>0.708473</td>\n",
       "      <td>0.0</td>\n",
       "      <td>0.743902</td>\n",
       "      <td>0.0</td>\n",
       "      <td>0.0</td>\n",
       "      <td>1.0</td>\n",
       "      <td>0.75</td>\n",
       "      <td>0.0</td>\n",
       "      <td>0.744130</td>\n",
       "      <td>0.296037</td>\n",
       "      <td>0.666667</td>\n",
       "      <td>1.0</td>\n",
       "    </tr>\n",
       "    <tr>\n",
       "      <th>2</th>\n",
       "      <td>0.426542</td>\n",
       "      <td>0.5</td>\n",
       "      <td>0.975610</td>\n",
       "      <td>0.0</td>\n",
       "      <td>1.0</td>\n",
       "      <td>1.0</td>\n",
       "      <td>0.50</td>\n",
       "      <td>0.0</td>\n",
       "      <td>0.389784</td>\n",
       "      <td>0.332992</td>\n",
       "      <td>0.666667</td>\n",
       "      <td>1.0</td>\n",
       "    </tr>\n",
       "    <tr>\n",
       "      <th>3</th>\n",
       "      <td>0.825089</td>\n",
       "      <td>0.0</td>\n",
       "      <td>0.597561</td>\n",
       "      <td>0.0</td>\n",
       "      <td>0.0</td>\n",
       "      <td>1.0</td>\n",
       "      <td>0.50</td>\n",
       "      <td>1.0</td>\n",
       "      <td>0.630124</td>\n",
       "      <td>0.352459</td>\n",
       "      <td>1.000000</td>\n",
       "      <td>1.0</td>\n",
       "    </tr>\n",
       "    <tr>\n",
       "      <th>4</th>\n",
       "      <td>0.022827</td>\n",
       "      <td>0.0</td>\n",
       "      <td>0.963415</td>\n",
       "      <td>1.0</td>\n",
       "      <td>0.0</td>\n",
       "      <td>1.0</td>\n",
       "      <td>0.75</td>\n",
       "      <td>0.0</td>\n",
       "      <td>0.640760</td>\n",
       "      <td>0.245902</td>\n",
       "      <td>0.666667</td>\n",
       "      <td>1.0</td>\n",
       "    </tr>\n",
       "  </tbody>\n",
       "</table>\n",
       "</div>"
      ],
      "text/plain": [
       "         id  gender       age  hypertension  heart_disease  ever_married  \\\n",
       "0  0.124020     0.5  0.817073           0.0            1.0           1.0   \n",
       "1  0.708473     0.0  0.743902           0.0            0.0           1.0   \n",
       "2  0.426542     0.5  0.975610           0.0            1.0           1.0   \n",
       "3  0.825089     0.0  0.597561           0.0            0.0           1.0   \n",
       "4  0.022827     0.0  0.963415           1.0            0.0           1.0   \n",
       "\n",
       "   work_type  Residence_type  avg_glucose_level       bmi  smoking_status  \\\n",
       "0       0.50             1.0           0.841577  0.375000        0.333333   \n",
       "1       0.75             0.0           0.744130  0.296037        0.666667   \n",
       "2       0.50             0.0           0.389784  0.332992        0.666667   \n",
       "3       0.50             1.0           0.630124  0.352459        1.000000   \n",
       "4       0.75             0.0           0.640760  0.245902        0.666667   \n",
       "\n",
       "   stroke  \n",
       "0     1.0  \n",
       "1     1.0  \n",
       "2     1.0  \n",
       "3     1.0  \n",
       "4     1.0  "
      ]
     },
     "execution_count": 16,
     "metadata": {},
     "output_type": "execute_result"
    }
   ],
   "source": [
    "data.head()"
   ]
  },
  {
   "cell_type": "code",
   "execution_count": 17,
   "metadata": {},
   "outputs": [
    {
     "data": {
      "text/plain": [
       "0.50    2925\n",
       "0.75     819\n",
       "1.00     687\n",
       "0.00     657\n",
       "0.25      22\n",
       "Name: work_type, dtype: int64"
      ]
     },
     "execution_count": 17,
     "metadata": {},
     "output_type": "execute_result"
    }
   ],
   "source": [
    "data['work_type'].value_counts()"
   ]
  },
  {
   "cell_type": "code",
   "execution_count": 18,
   "metadata": {},
   "outputs": [
    {
     "data": {
      "text/plain": [
       "0.0    2994\n",
       "0.5    2115\n",
       "1.0       1\n",
       "Name: gender, dtype: int64"
      ]
     },
     "execution_count": 18,
     "metadata": {},
     "output_type": "execute_result"
    }
   ],
   "source": [
    "data['gender'].value_counts()"
   ]
  },
  {
   "cell_type": "markdown",
   "metadata": {
    "id": "KICuY0lg5nUD"
   },
   "source": [
    "### Removing Unnecessary Features"
   ]
  },
  {
   "cell_type": "markdown",
   "metadata": {
    "id": "ua71U2YxL5Ls"
   },
   "source": [
    "**Question 7:** From the features that you have, remove the feature(s) that is(are) irrelevant to your predictions."
   ]
  },
  {
   "cell_type": "code",
   "execution_count": 19,
   "metadata": {
    "id": "8AHNqYbh5sE7"
   },
   "outputs": [],
   "source": [
    "data = data.drop(columns=['id']  , axis=1)"
   ]
  },
  {
   "cell_type": "code",
   "execution_count": 20,
   "metadata": {},
   "outputs": [
    {
     "data": {
      "text/html": [
       "<div>\n",
       "<style scoped>\n",
       "    .dataframe tbody tr th:only-of-type {\n",
       "        vertical-align: middle;\n",
       "    }\n",
       "\n",
       "    .dataframe tbody tr th {\n",
       "        vertical-align: top;\n",
       "    }\n",
       "\n",
       "    .dataframe thead th {\n",
       "        text-align: right;\n",
       "    }\n",
       "</style>\n",
       "<table border=\"1\" class=\"dataframe\">\n",
       "  <thead>\n",
       "    <tr style=\"text-align: right;\">\n",
       "      <th></th>\n",
       "      <th>gender</th>\n",
       "      <th>age</th>\n",
       "      <th>hypertension</th>\n",
       "      <th>heart_disease</th>\n",
       "      <th>ever_married</th>\n",
       "      <th>work_type</th>\n",
       "      <th>Residence_type</th>\n",
       "      <th>avg_glucose_level</th>\n",
       "      <th>bmi</th>\n",
       "      <th>smoking_status</th>\n",
       "      <th>stroke</th>\n",
       "    </tr>\n",
       "  </thead>\n",
       "  <tbody>\n",
       "    <tr>\n",
       "      <th>0</th>\n",
       "      <td>0.5</td>\n",
       "      <td>0.817073</td>\n",
       "      <td>0.0</td>\n",
       "      <td>1.0</td>\n",
       "      <td>1.0</td>\n",
       "      <td>0.50</td>\n",
       "      <td>1.0</td>\n",
       "      <td>0.841577</td>\n",
       "      <td>0.375000</td>\n",
       "      <td>0.333333</td>\n",
       "      <td>1.0</td>\n",
       "    </tr>\n",
       "    <tr>\n",
       "      <th>1</th>\n",
       "      <td>0.0</td>\n",
       "      <td>0.743902</td>\n",
       "      <td>0.0</td>\n",
       "      <td>0.0</td>\n",
       "      <td>1.0</td>\n",
       "      <td>0.75</td>\n",
       "      <td>0.0</td>\n",
       "      <td>0.744130</td>\n",
       "      <td>0.296037</td>\n",
       "      <td>0.666667</td>\n",
       "      <td>1.0</td>\n",
       "    </tr>\n",
       "    <tr>\n",
       "      <th>2</th>\n",
       "      <td>0.5</td>\n",
       "      <td>0.975610</td>\n",
       "      <td>0.0</td>\n",
       "      <td>1.0</td>\n",
       "      <td>1.0</td>\n",
       "      <td>0.50</td>\n",
       "      <td>0.0</td>\n",
       "      <td>0.389784</td>\n",
       "      <td>0.332992</td>\n",
       "      <td>0.666667</td>\n",
       "      <td>1.0</td>\n",
       "    </tr>\n",
       "    <tr>\n",
       "      <th>3</th>\n",
       "      <td>0.0</td>\n",
       "      <td>0.597561</td>\n",
       "      <td>0.0</td>\n",
       "      <td>0.0</td>\n",
       "      <td>1.0</td>\n",
       "      <td>0.50</td>\n",
       "      <td>1.0</td>\n",
       "      <td>0.630124</td>\n",
       "      <td>0.352459</td>\n",
       "      <td>1.000000</td>\n",
       "      <td>1.0</td>\n",
       "    </tr>\n",
       "    <tr>\n",
       "      <th>4</th>\n",
       "      <td>0.0</td>\n",
       "      <td>0.963415</td>\n",
       "      <td>1.0</td>\n",
       "      <td>0.0</td>\n",
       "      <td>1.0</td>\n",
       "      <td>0.75</td>\n",
       "      <td>0.0</td>\n",
       "      <td>0.640760</td>\n",
       "      <td>0.245902</td>\n",
       "      <td>0.666667</td>\n",
       "      <td>1.0</td>\n",
       "    </tr>\n",
       "  </tbody>\n",
       "</table>\n",
       "</div>"
      ],
      "text/plain": [
       "   gender       age  hypertension  heart_disease  ever_married  work_type  \\\n",
       "0     0.5  0.817073           0.0            1.0           1.0       0.50   \n",
       "1     0.0  0.743902           0.0            0.0           1.0       0.75   \n",
       "2     0.5  0.975610           0.0            1.0           1.0       0.50   \n",
       "3     0.0  0.597561           0.0            0.0           1.0       0.50   \n",
       "4     0.0  0.963415           1.0            0.0           1.0       0.75   \n",
       "\n",
       "   Residence_type  avg_glucose_level       bmi  smoking_status  stroke  \n",
       "0             1.0           0.841577  0.375000        0.333333     1.0  \n",
       "1             0.0           0.744130  0.296037        0.666667     1.0  \n",
       "2             0.0           0.389784  0.332992        0.666667     1.0  \n",
       "3             1.0           0.630124  0.352459        1.000000     1.0  \n",
       "4             0.0           0.640760  0.245902        0.666667     1.0  "
      ]
     },
     "execution_count": 20,
     "metadata": {},
     "output_type": "execute_result"
    }
   ],
   "source": [
    "data.head()"
   ]
  },
  {
   "cell_type": "markdown",
   "metadata": {
    "id": "5k-KoLpH5C9R"
   },
   "source": [
    "# Building the DL Model"
   ]
  },
  {
   "cell_type": "markdown",
   "metadata": {
    "id": "uI2VtlafMBeN"
   },
   "source": [
    "**Question 8:** Now it's time to build the actual model, and observe a summary of it."
   ]
  },
  {
   "cell_type": "code",
   "execution_count": 21,
   "metadata": {
    "id": "AZvKqqT65E0W"
   },
   "outputs": [
    {
     "name": "stdout",
     "output_type": "stream",
     "text": [
      "Model: \"sequential\"\n",
      "_________________________________________________________________\n",
      " Layer (type)                Output Shape              Param #   \n",
      "=================================================================\n",
      " dense (Dense)               (None, 32)                352       \n",
      "                                                                 \n",
      " dense_1 (Dense)             (None, 16)                528       \n",
      "                                                                 \n",
      " dense_2 (Dense)             (None, 8)                 136       \n",
      "                                                                 \n",
      " dense_3 (Dense)             (None, 4)                 36        \n",
      "                                                                 \n",
      " dense_4 (Dense)             (None, 2)                 10        \n",
      "                                                                 \n",
      " dense_5 (Dense)             (None, 1)                 3         \n",
      "                                                                 \n",
      "=================================================================\n",
      "Total params: 1,065\n",
      "Trainable params: 1,065\n",
      "Non-trainable params: 0\n",
      "_________________________________________________________________\n"
     ]
    }
   ],
   "source": [
    "import tensorflow as tf\n",
    "from tensorflow.keras.models import Sequential\n",
    "from tensorflow.keras.layers import Dense\n",
    "\n",
    "\n",
    "model = Sequential()\n",
    "\n",
    "model.add(Dense(32, input_dim=10, activation='relu'))\n",
    "model.add(Dense(16, activation='relu'))\n",
    "model.add(Dense(8, activation='relu'))\n",
    "model.add(Dense(4, activation='relu'))\n",
    "model.add(Dense(2, activation='relu'))\n",
    "model.add(Dense(1, activation='sigmoid'))\n",
    "\n",
    "\n",
    "model.summary()"
   ]
  },
  {
   "cell_type": "markdown",
   "metadata": {
    "id": "AD57fE2n7QP4"
   },
   "source": [
    "### Compiling the model"
   ]
  },
  {
   "cell_type": "markdown",
   "metadata": {
    "id": "seGmh1x1-qH9"
   },
   "source": [
    "**Question 9:**  Now we compile the model. Here we want to measure the accuracy as well as the precision and recall to know better about the performance of our model."
   ]
  },
  {
   "cell_type": "code",
   "execution_count": 22,
   "metadata": {
    "id": "woSsSTEm61_U"
   },
   "outputs": [],
   "source": [
    "model.compile(optimizer='adam' , loss='binary_crossentropy'  , metrics=['accuracy' ,tf.keras.metrics.Recall(), tf.keras.metrics.Precision()])"
   ]
  },
  {
   "cell_type": "markdown",
   "metadata": {
    "id": "U5zevRH57X8v"
   },
   "source": [
    "### Fitting the model"
   ]
  },
  {
   "cell_type": "markdown",
   "metadata": {
    "id": "UhaEU26KMUWK"
   },
   "source": [
    "**Question 10:** Split the data and train the model\n",
    "\n",
    "We take the first columns as features and the last column as a label, then we split our dataset between training (70%) and testing (30%)."
   ]
  },
  {
   "cell_type": "code",
   "execution_count": 23,
   "metadata": {
    "id": "rsVOVfn47MLn"
   },
   "outputs": [],
   "source": [
    "import numpy as np\n",
    "from sklearn.model_selection import train_test_split\n",
    "\n",
    "x = data.drop(\"stroke\", axis=1)  \n",
    "y = data[\"stroke\"]\n",
    "\n",
    "\n",
    "x_train, x_val, y_train, y_val = train_test_split(x, y, test_size=0.3, stratify=y)"
   ]
  },
  {
   "cell_type": "markdown",
   "metadata": {
    "id": "LVvxbyPyezb3"
   },
   "source": [
    "we fit the model on 80% training data, and validate on the rest. Later we will do the final test on the test data. The training happens for 15 epochs."
   ]
  },
  {
   "cell_type": "code",
   "execution_count": 24,
   "metadata": {
    "id": "KrlvFubpqBeS"
   },
   "outputs": [
    {
     "name": "stdout",
     "output_type": "stream",
     "text": [
      "Epoch 1/15\n",
      "112/112 [==============================] - 4s 10ms/step - loss: 0.6689 - accuracy: 0.9514 - recall: 0.0000e+00 - precision: 0.0000e+00 - val_loss: 0.6449 - val_accuracy: 0.9511 - val_recall: 0.0000e+00 - val_precision: 0.0000e+00\n",
      "Epoch 2/15\n",
      "112/112 [==============================] - 0s 4ms/step - loss: 0.6229 - accuracy: 0.9514 - recall: 0.0000e+00 - precision: 0.0000e+00 - val_loss: 0.6012 - val_accuracy: 0.9511 - val_recall: 0.0000e+00 - val_precision: 0.0000e+00\n",
      "Epoch 3/15\n",
      "112/112 [==============================] - 0s 4ms/step - loss: 0.5810 - accuracy: 0.9514 - recall: 0.0000e+00 - precision: 0.0000e+00 - val_loss: 0.5613 - val_accuracy: 0.9511 - val_recall: 0.0000e+00 - val_precision: 0.0000e+00\n",
      "Epoch 4/15\n",
      "112/112 [==============================] - 0s 4ms/step - loss: 0.5431 - accuracy: 0.9514 - recall: 0.0000e+00 - precision: 0.0000e+00 - val_loss: 0.5253 - val_accuracy: 0.9511 - val_recall: 0.0000e+00 - val_precision: 0.0000e+00\n",
      "Epoch 5/15\n",
      "112/112 [==============================] - 0s 4ms/step - loss: 0.5088 - accuracy: 0.9514 - recall: 0.0000e+00 - precision: 0.0000e+00 - val_loss: 0.4927 - val_accuracy: 0.9511 - val_recall: 0.0000e+00 - val_precision: 0.0000e+00\n",
      "Epoch 6/15\n",
      "112/112 [==============================] - 0s 4ms/step - loss: 0.4777 - accuracy: 0.9514 - recall: 0.0000e+00 - precision: 0.0000e+00 - val_loss: 0.4633 - val_accuracy: 0.9511 - val_recall: 0.0000e+00 - val_precision: 0.0000e+00\n",
      "Epoch 7/15\n",
      "112/112 [==============================] - 0s 3ms/step - loss: 0.4497 - accuracy: 0.9514 - recall: 0.0000e+00 - precision: 0.0000e+00 - val_loss: 0.4367 - val_accuracy: 0.9511 - val_recall: 0.0000e+00 - val_precision: 0.0000e+00\n",
      "Epoch 8/15\n",
      "112/112 [==============================] - 0s 4ms/step - loss: 0.4244 - accuracy: 0.9514 - recall: 0.0000e+00 - precision: 0.0000e+00 - val_loss: 0.4127 - val_accuracy: 0.9511 - val_recall: 0.0000e+00 - val_precision: 0.0000e+00\n",
      "Epoch 9/15\n",
      "112/112 [==============================] - 0s 4ms/step - loss: 0.4016 - accuracy: 0.9514 - recall: 0.0000e+00 - precision: 0.0000e+00 - val_loss: 0.3912 - val_accuracy: 0.9511 - val_recall: 0.0000e+00 - val_precision: 0.0000e+00\n",
      "Epoch 10/15\n",
      "112/112 [==============================] - 0s 4ms/step - loss: 0.3810 - accuracy: 0.9514 - recall: 0.0000e+00 - precision: 0.0000e+00 - val_loss: 0.3716 - val_accuracy: 0.9511 - val_recall: 0.0000e+00 - val_precision: 0.0000e+00\n",
      "Epoch 11/15\n",
      "112/112 [==============================] - 0s 4ms/step - loss: 0.3625 - accuracy: 0.9514 - recall: 0.0000e+00 - precision: 0.0000e+00 - val_loss: 0.3541 - val_accuracy: 0.9511 - val_recall: 0.0000e+00 - val_precision: 0.0000e+00\n",
      "Epoch 12/15\n",
      "112/112 [==============================] - 0s 4ms/step - loss: 0.3458 - accuracy: 0.9514 - recall: 0.0000e+00 - precision: 0.0000e+00 - val_loss: 0.3381 - val_accuracy: 0.9511 - val_recall: 0.0000e+00 - val_precision: 0.0000e+00\n",
      "Epoch 13/15\n",
      "112/112 [==============================] - 0s 4ms/step - loss: 0.3307 - accuracy: 0.9514 - recall: 0.0000e+00 - precision: 0.0000e+00 - val_loss: 0.3239 - val_accuracy: 0.9511 - val_recall: 0.0000e+00 - val_precision: 0.0000e+00\n",
      "Epoch 14/15\n",
      "112/112 [==============================] - 0s 4ms/step - loss: 0.3170 - accuracy: 0.9514 - recall: 0.0000e+00 - precision: 0.0000e+00 - val_loss: 0.3110 - val_accuracy: 0.9511 - val_recall: 0.0000e+00 - val_precision: 0.0000e+00\n",
      "Epoch 15/15\n",
      "112/112 [==============================] - 0s 4ms/step - loss: 0.3047 - accuracy: 0.9514 - recall: 0.0000e+00 - precision: 0.0000e+00 - val_loss: 0.2993 - val_accuracy: 0.9511 - val_recall: 0.0000e+00 - val_precision: 0.0000e+00\n"
     ]
    }
   ],
   "source": [
    "history = model.fit(x_train, y_train, validation_data=(x_val, y_val), epochs=15)\n"
   ]
  },
  {
   "cell_type": "markdown",
   "metadata": {
    "id": "voqUo00lAqCZ"
   },
   "source": [
    "# Improving DL Models"
   ]
  },
  {
   "cell_type": "markdown",
   "metadata": {
    "id": "Op2Frp44uSiX"
   },
   "source": [
    "**Question 11:** Suggest ways to improve your model"
   ]
  },
  {
   "cell_type": "markdown",
   "metadata": {
    "id": "IImSYWQGBSz6"
   },
   "source": [
    "### Checking For Data Imbalance"
   ]
  },
  {
   "cell_type": "markdown",
   "metadata": {
    "id": "ZHxCONODMkNN"
   },
   "source": [
    "We check for imbalance because we have a poor recall and precision."
   ]
  },
  {
   "cell_type": "code",
   "execution_count": 25,
   "metadata": {},
   "outputs": [
    {
     "data": {
      "image/png": "[encoded data removed]",
      "text/plain": [
       "<Figure size 800x600 with 1 Axes>"
      ]
     },
     "metadata": {},
     "output_type": "display_data"
    }
   ],
   "source": [
    "import matplotlib.pyplot as plt\n",
    "import seaborn as sns\n",
    "\n",
    "plt.figure(figsize=(8, 6))\n",
    "sns.histplot(data['stroke'], bins=2, kde=False, color='skyblue')\n",
    "plt.xticks([0, 1], labels=['0', '1'])\n",
    "plt.title('Distribution of Stroke (Target)')\n",
    "plt.xlabel('Stroke')\n",
    "plt.ylabel('Frequency')\n",
    "\n",
    "plt.show()"
   ]
  },
  {
   "cell_type": "markdown",
   "metadata": {},
   "source": [
    "From the chart, it is noticeable that there is a significant imbalance, where class 0 is the majority with  count over 4,000, while class 1 is the minority with count around 200."
   ]
  },
  {
   "cell_type": "markdown",
   "metadata": {
    "id": "gzZBB5GMCOld"
   },
   "source": [
    "We have a huge imbalance in the data, this is why we fix it with oversamppling and undersampling.\n",
    "\n",
    "We will oversample this time using the SMOTE() function instead of random oversampling, and this is because SMOTE will generate new data based on the data that we have, so we avoid overfitting."
   ]
  },
  {
   "cell_type": "code",
   "execution_count": 26,
   "metadata": {},
   "outputs": [],
   "source": [
    "#!pip install imbalanced-learn\n"
   ]
  },
  {
   "cell_type": "code",
   "execution_count": 27,
   "metadata": {
    "id": "US4xON4LBX8I"
   },
   "outputs": [
    {
     "data": {
      "image/png": "[encoded data removed]",
      "text/plain": [
       "<Figure size 640x480 with 1 Axes>"
      ]
     },
     "metadata": {},
     "output_type": "display_data"
    }
   ],
   "source": [
    "\n",
    "from imblearn.over_sampling import SMOTE\n",
    "\n",
    "over = SMOTE()\n",
    "x_new, y_new = over.fit_resample(x, y)\n",
    "\n",
    "plt.hist([y_new])\n",
    "\n",
    "plt.title('Distribution of Stroke (Target) After SMOTE')\n",
    "plt.xlabel('Stroke')\n",
    "plt.ylabel('Frequency')\n",
    "\n",
    "plt.show()"
   ]
  },
  {
   "cell_type": "markdown",
   "metadata": {
    "id": "OmfeUhi1ezb9"
   },
   "source": [
    "Split the balanced dataset between 90% (training and validation), 10% testing\n",
    "Then divide the 90% between 80% training and 20% validation"
   ]
  },
  {
   "cell_type": "code",
   "execution_count": 28,
   "metadata": {
    "id": "IxnYFoPZezb-"
   },
   "outputs": [],
   "source": [
    "from sklearn.model_selection import train_test_split\n",
    "\n",
    "\n",
    "x_train_val, x_test, y_train_val, y_test = train_test_split(x_new, y_new, test_size=0.1, stratify=y_new)\n",
    "x_train, x_val, y_train, y_val = train_test_split(x_train_val, y_train_val, test_size=0.2, stratify=y_train_val)"
   ]
  },
  {
   "cell_type": "markdown",
   "metadata": {
    "id": "dgyxF74oezcA"
   },
   "source": [
    "Now we will train the model on the balanced data, and tune it on the validation set"
   ]
  },
  {
   "cell_type": "code",
   "execution_count": 29,
   "metadata": {
    "id": "26YTispLEm9N"
   },
   "outputs": [
    {
     "name": "stdout",
     "output_type": "stream",
     "text": [
      "Epoch 1/15\n",
      "219/219 [==============================] - 1s 3ms/step - loss: 0.8723 - accuracy: 0.4999 - recall: 0.0000e+00 - precision: 0.0000e+00 - val_loss: 0.8425 - val_accuracy: 0.5000 - val_recall: 0.0000e+00 - val_precision: 0.0000e+00\n",
      "Epoch 2/15\n",
      "219/219 [==============================] - 1s 3ms/step - loss: 0.8186 - accuracy: 0.4999 - recall: 0.0000e+00 - precision: 0.0000e+00 - val_loss: 0.7965 - val_accuracy: 0.5000 - val_recall: 0.0000e+00 - val_precision: 0.0000e+00\n",
      "Epoch 3/15\n",
      "219/219 [==============================] - 1s 3ms/step - loss: 0.7791 - accuracy: 0.4999 - recall: 0.0000e+00 - precision: 0.0000e+00 - val_loss: 0.7631 - val_accuracy: 0.5000 - val_recall: 0.0000e+00 - val_precision: 0.0000e+00\n",
      "Epoch 4/15\n",
      "219/219 [==============================] - 1s 3ms/step - loss: 0.7505 - accuracy: 0.4999 - recall: 0.0000e+00 - precision: 0.0000e+00 - val_loss: 0.7391 - val_accuracy: 0.5000 - val_recall: 0.0000e+00 - val_precision: 0.0000e+00\n",
      "Epoch 5/15\n",
      "219/219 [==============================] - 1s 3ms/step - loss: 0.7302 - accuracy: 0.4999 - recall: 0.0000e+00 - precision: 0.0000e+00 - val_loss: 0.7222 - val_accuracy: 0.5000 - val_recall: 0.0000e+00 - val_precision: 0.0000e+00\n",
      "Epoch 6/15\n",
      "219/219 [==============================] - 1s 3ms/step - loss: 0.7163 - accuracy: 0.4999 - recall: 0.0000e+00 - precision: 0.0000e+00 - val_loss: 0.7108 - val_accuracy: 0.5000 - val_recall: 0.0000e+00 - val_precision: 0.0000e+00\n",
      "Epoch 7/15\n",
      "219/219 [==============================] - 1s 3ms/step - loss: 0.7070 - accuracy: 0.4999 - recall: 0.0000e+00 - precision: 0.0000e+00 - val_loss: 0.7035 - val_accuracy: 0.5000 - val_recall: 0.0000e+00 - val_precision: 0.0000e+00\n",
      "Epoch 8/15\n",
      "219/219 [==============================] - 1s 3ms/step - loss: 0.7010 - accuracy: 0.4999 - recall: 0.0000e+00 - precision: 0.0000e+00 - val_loss: 0.6988 - val_accuracy: 0.5000 - val_recall: 0.0000e+00 - val_precision: 0.0000e+00\n",
      "Epoch 9/15\n",
      "219/219 [==============================] - 1s 3ms/step - loss: 0.6974 - accuracy: 0.4999 - recall: 0.0000e+00 - precision: 0.0000e+00 - val_loss: 0.6961 - val_accuracy: 0.5000 - val_recall: 0.0000e+00 - val_precision: 0.0000e+00\n",
      "Epoch 10/15\n",
      "219/219 [==============================] - 1s 3ms/step - loss: 0.6953 - accuracy: 0.4999 - recall: 0.0000e+00 - precision: 0.0000e+00 - val_loss: 0.6946 - val_accuracy: 0.5000 - val_recall: 0.0000e+00 - val_precision: 0.0000e+00\n",
      "Epoch 11/15\n",
      "219/219 [==============================] - 1s 4ms/step - loss: 0.6942 - accuracy: 0.4999 - recall: 0.0000e+00 - precision: 0.0000e+00 - val_loss: 0.6939 - val_accuracy: 0.5000 - val_recall: 0.0000e+00 - val_precision: 0.0000e+00\n",
      "Epoch 12/15\n",
      "219/219 [==============================] - 1s 4ms/step - loss: 0.6937 - accuracy: 0.4999 - recall: 0.0000e+00 - precision: 0.0000e+00 - val_loss: 0.6935 - val_accuracy: 0.5000 - val_recall: 0.0000e+00 - val_precision: 0.0000e+00\n",
      "Epoch 13/15\n",
      "219/219 [==============================] - 1s 4ms/step - loss: 0.6934 - accuracy: 0.4999 - recall: 0.0000e+00 - precision: 0.0000e+00 - val_loss: 0.6933 - val_accuracy: 0.5000 - val_recall: 0.0000e+00 - val_precision: 0.0000e+00\n",
      "Epoch 14/15\n",
      "219/219 [==============================] - 1s 4ms/step - loss: 0.6933 - accuracy: 0.4999 - recall: 0.0000e+00 - precision: 0.0000e+00 - val_loss: 0.6932 - val_accuracy: 0.5000 - val_recall: 0.0000e+00 - val_precision: 0.0000e+00\n",
      "Epoch 15/15\n",
      "219/219 [==============================] - 1s 3ms/step - loss: 0.6932 - accuracy: 0.4999 - recall: 0.0000e+00 - precision: 0.0000e+00 - val_loss: 0.6932 - val_accuracy: 0.5000 - val_recall: 0.0000e+00 - val_precision: 0.0000e+00\n"
     ]
    }
   ],
   "source": [
    "history = model.fit(x_train, y_train, validation_data=(x_val, y_val), epochs=15)"
   ]
  },
  {
   "cell_type": "markdown",
   "metadata": {
    "id": "wAhUAu5JezcC"
   },
   "source": [
    "Evaluate your model on the test set that you kept aside at the beginning."
   ]
  },
  {
   "cell_type": "code",
   "execution_count": 30,
   "metadata": {
    "id": "utTyIgJLezcD"
   },
   "outputs": [
    {
     "name": "stdout",
     "output_type": "stream",
     "text": [
      "31/31 [==============================] - 0s 3ms/step - loss: 0.6932 - accuracy: 0.5005 - recall: 0.0000e+00 - precision: 0.0000e+00\n"
     ]
    },
    {
     "data": {
      "text/plain": [
       "[0.6931599378585815, 0.5005138516426086, 0.0, 0.0]"
      ]
     },
     "execution_count": 30,
     "metadata": {},
     "output_type": "execute_result"
    }
   ],
   "source": [
    "model.evaluate(x_test, y_test)"
   ]
  },
  {
   "cell_type": "markdown",
   "metadata": {
    "id": "hhfhpIaWGtz2"
   },
   "source": [
    "We see that the performance gets better when our data became balanced.\n",
    "Now we will try improving our model with other techniques that we learned through the week."
   ]
  },
  {
   "cell_type": "markdown",
   "metadata": {
    "id": "ngJVLbRKG7U_"
   },
   "source": [
    "### Model Design"
   ]
  },
  {
   "cell_type": "markdown",
   "metadata": {
    "id": "sMdcXspCHxIo"
   },
   "source": [
    "We will introduce batch normalization after each layer and then train the model"
   ]
  },
  {
   "cell_type": "code",
   "execution_count": 31,
   "metadata": {
    "id": "yK78-g-hHrmq"
   },
   "outputs": [
    {
     "name": "stdout",
     "output_type": "stream",
     "text": [
      "Model: \"sequential_1\"\n",
      "_________________________________________________________________\n",
      " Layer (type)                Output Shape              Param #   \n",
      "=================================================================\n",
      " dense_6 (Dense)             (None, 32)                352       \n",
      "                                                                 \n",
      " batch_normalization (BatchN  (None, 32)               128       \n",
      " ormalization)                                                   \n",
      "                                                                 \n",
      " dense_7 (Dense)             (None, 16)                528       \n",
      "                                                                 \n",
      " batch_normalization_1 (Batc  (None, 16)               64        \n",
      " hNormalization)                                                 \n",
      "                                                                 \n",
      " dense_8 (Dense)             (None, 8)                 136       \n",
      "                                                                 \n",
      " batch_normalization_2 (Batc  (None, 8)                32        \n",
      " hNormalization)                                                 \n",
      "                                                                 \n",
      " dense_9 (Dense)             (None, 4)                 36        \n",
      "                                                                 \n",
      " batch_normalization_3 (Batc  (None, 4)                16        \n",
      " hNormalization)                                                 \n",
      "                                                                 \n",
      " dense_10 (Dense)            (None, 2)                 10        \n",
      "                                                                 \n",
      " batch_normalization_4 (Batc  (None, 2)                8         \n",
      " hNormalization)                                                 \n",
      "                                                                 \n",
      " dense_11 (Dense)            (None, 1)                 3         \n",
      "                                                                 \n",
      "=================================================================\n",
      "Total params: 1,313\n",
      "Trainable params: 1,189\n",
      "Non-trainable params: 124\n",
      "_________________________________________________________________\n"
     ]
    }
   ],
   "source": [
    "from tensorflow.keras.layers import BatchNormalization\n",
    "model = Sequential()\n",
    "\n",
    "model.add(Dense(32, input_dim=10, activation='relu'))\n",
    "model.add(BatchNormalization())\n",
    "model.add(Dense(16, activation='relu'))\n",
    "model.add(BatchNormalization())\n",
    "model.add(Dense(8, activation='relu'))\n",
    "model.add(BatchNormalization())\n",
    "model.add(Dense(4, activation='relu'))\n",
    "model.add(BatchNormalization())\n",
    "model.add(Dense(2, activation='relu'))\n",
    "model.add(BatchNormalization())\n",
    "model.add(Dense(1, activation='sigmoid'))\n",
    "\n",
    "model.summary()\n"
   ]
  },
  {
   "cell_type": "code",
   "execution_count": 32,
   "metadata": {
    "id": "REDrQVWLJLs5"
   },
   "outputs": [
    {
     "name": "stdout",
     "output_type": "stream",
     "text": [
      "Epoch 1/15\n",
      "219/219 [==============================] - 8s 9ms/step - loss: 0.6099 - accuracy: 0.6710 - precision: 0.6468 - recall: 0.7534 - val_loss: 0.5902 - val_accuracy: 0.7046 - val_precision: 0.6540 - val_recall: 0.8686\n",
      "Epoch 2/15\n",
      "219/219 [==============================] - 1s 5ms/step - loss: 0.5199 - accuracy: 0.7547 - precision: 0.7127 - recall: 0.8534 - val_loss: 0.5012 - val_accuracy: 0.7629 - val_precision: 0.7072 - val_recall: 0.8971\n",
      "Epoch 3/15\n",
      "219/219 [==============================] - 1s 5ms/step - loss: 0.4789 - accuracy: 0.7804 - precision: 0.7415 - recall: 0.8611 - val_loss: 0.4562 - val_accuracy: 0.7817 - val_precision: 0.7386 - val_recall: 0.8720\n",
      "Epoch 4/15\n",
      "219/219 [==============================] - 1s 5ms/step - loss: 0.4668 - accuracy: 0.7855 - precision: 0.7456 - recall: 0.8669 - val_loss: 0.4533 - val_accuracy: 0.7971 - val_precision: 0.7394 - val_recall: 0.9177\n",
      "Epoch 5/15\n",
      "219/219 [==============================] - 1s 5ms/step - loss: 0.4603 - accuracy: 0.7865 - precision: 0.7451 - recall: 0.8711 - val_loss: 0.4402 - val_accuracy: 0.8000 - val_precision: 0.7546 - val_recall: 0.8891\n",
      "Epoch 6/15\n",
      "219/219 [==============================] - 1s 5ms/step - loss: 0.4577 - accuracy: 0.7861 - precision: 0.7473 - recall: 0.8646 - val_loss: 0.4329 - val_accuracy: 0.7983 - val_precision: 0.7426 - val_recall: 0.9131\n",
      "Epoch 7/15\n",
      "219/219 [==============================] - 1s 5ms/step - loss: 0.4461 - accuracy: 0.7945 - precision: 0.7527 - recall: 0.8774 - val_loss: 0.4222 - val_accuracy: 0.8051 - val_precision: 0.7472 - val_recall: 0.9223\n",
      "Epoch 8/15\n",
      "219/219 [==============================] - 1s 5ms/step - loss: 0.4320 - accuracy: 0.8074 - precision: 0.7669 - recall: 0.8834 - val_loss: 0.4280 - val_accuracy: 0.8040 - val_precision: 0.7440 - val_recall: 0.9269\n",
      "Epoch 9/15\n",
      "219/219 [==============================] - 1s 5ms/step - loss: 0.4287 - accuracy: 0.8033 - precision: 0.7620 - recall: 0.8820 - val_loss: 0.4132 - val_accuracy: 0.8137 - val_precision: 0.7549 - val_recall: 0.9291\n",
      "Epoch 10/15\n",
      "219/219 [==============================] - 1s 5ms/step - loss: 0.4216 - accuracy: 0.8105 - precision: 0.7677 - recall: 0.8906 - val_loss: 0.4095 - val_accuracy: 0.8154 - val_precision: 0.7701 - val_recall: 0.8994\n",
      "Epoch 11/15\n",
      "219/219 [==============================] - 1s 5ms/step - loss: 0.4242 - accuracy: 0.8085 - precision: 0.7681 - recall: 0.8840 - val_loss: 0.4078 - val_accuracy: 0.8149 - val_precision: 0.7577 - val_recall: 0.9257\n",
      "Epoch 12/15\n",
      "219/219 [==============================] - 1s 5ms/step - loss: 0.4114 - accuracy: 0.8155 - precision: 0.7762 - recall: 0.8869 - val_loss: 0.3964 - val_accuracy: 0.8251 - val_precision: 0.7712 - val_recall: 0.9246\n",
      "Epoch 13/15\n",
      "219/219 [==============================] - 1s 5ms/step - loss: 0.4191 - accuracy: 0.8100 - precision: 0.7668 - recall: 0.8909 - val_loss: 0.4081 - val_accuracy: 0.8154 - val_precision: 0.7486 - val_recall: 0.9497\n",
      "Epoch 14/15\n",
      "219/219 [==============================] - 1s 5ms/step - loss: 0.4199 - accuracy: 0.8093 - precision: 0.7700 - recall: 0.8820 - val_loss: 0.4034 - val_accuracy: 0.8189 - val_precision: 0.7560 - val_recall: 0.9417\n",
      "Epoch 15/15\n",
      "219/219 [==============================] - 1s 6ms/step - loss: 0.4155 - accuracy: 0.8121 - precision: 0.7722 - recall: 0.8854 - val_loss: 0.4014 - val_accuracy: 0.8291 - val_precision: 0.7609 - val_recall: 0.9600\n"
     ]
    }
   ],
   "source": [
    "model.compile(optimizer='adam', loss='binary_crossentropy', metrics=['accuracy', 'Precision', 'Recall'])\n",
    "\n",
    "history2 = model.fit(x_train, y_train, validation_data=(x_val, y_val), epochs=15)"
   ]
  },
  {
   "cell_type": "code",
   "execution_count": 33,
   "metadata": {
    "id": "eenpPyr_ezcH"
   },
   "outputs": [
    {
     "name": "stdout",
     "output_type": "stream",
     "text": [
      "31/31 [==============================] - 0s 3ms/step - loss: 0.3747 - accuracy: 0.8366 - precision: 0.7730 - recall: 0.9527\n"
     ]
    },
    {
     "data": {
      "text/plain": [
       "[0.3747175335884094, 0.8365878462791443, 0.7729549407958984, 0.952674925327301]"
      ]
     },
     "execution_count": 33,
     "metadata": {},
     "output_type": "execute_result"
    }
   ],
   "source": [
    "model.evaluate(x_test, y_test)"
   ]
  },
  {
   "cell_type": "markdown",
   "metadata": {
    "id": "hhkSEThVKEdm"
   },
   "source": [
    "We see that we are achieving better metrics with batch normalization."
   ]
  }
 ],
 "metadata": {
  "colab": {
   "collapsed_sections": [
    "d1GOfAgt4M-Q",
    "KICuY0lg5nUD",
    "AD57fE2n7QP4",
    "U5zevRH57X8v",
    "IImSYWQGBSz6",
    "ngJVLbRKG7U_",
    "mXf6cpO_KWTs"
   ],
   "provenance": [],
   "toc_visible": true
  },
  "kernelspec": {
   "display_name": "Python 3 (ipykernel)",
   "language": "python",
   "name": "python3"
  },
  "language_info": {
   "codemirror_mode": {
    "name": "ipython",
    "version": 3
   },
   "file_extension": ".py",
   "mimetype": "text/x-python",
   "name": "python",
   "nbconvert_exporter": "python",
   "pygments_lexer": "ipython3",
   "version": "3.9.12"
  },
  "vscode": {
   "interpreter": {
    "hash": "8c3d4d9970fc5c09c50d9318a9c7fbf4d0159e4b28833276f5678ee22bded273"
   }
  }
 },
 "nbformat": 4,
 "nbformat_minor": 1
}
